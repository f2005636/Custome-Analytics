{
 "cells": [
  {
   "cell_type": "markdown",
   "metadata": {},
   "source": [
    "# 1. import library"
   ]
  },
  {
   "cell_type": "code",
   "execution_count": 1,
   "metadata": {},
   "outputs": [],
   "source": [
    "import numpy as np\n",
    "import pandas as pd\n",
    "from sklearn.linear_model import LogisticRegression\n",
    "from sklearn.linear_model import LinearRegression"
   ]
  },
  {
   "cell_type": "code",
   "execution_count": 2,
   "metadata": {},
   "outputs": [],
   "source": [
    "import matplotlib.pyplot as plt\n",
    "import seaborn as sns\n",
    "plt.style.use('seaborn-white')\n",
    "%matplotlib inline\n",
    "plt.rcParams['figure.figsize'] = 8,4"
   ]
  },
  {
   "cell_type": "markdown",
   "metadata": {},
   "source": [
    "# 2. import data"
   ]
  },
  {
   "cell_type": "code",
   "execution_count": 3,
   "metadata": {},
   "outputs": [
    {
     "data": {
      "text/plain": [
       "(58693, 24)"
      ]
     },
     "execution_count": 3,
     "metadata": {},
     "output_type": "execute_result"
    }
   ],
   "source": [
    "df = pd.read_csv('0 Data/raw_data.csv')\n",
    "df.shape"
   ]
  },
  {
   "cell_type": "markdown",
   "metadata": {},
   "source": [
    "# 3. model data"
   ]
  },
  {
   "cell_type": "code",
   "execution_count": 4,
   "metadata": {},
   "outputs": [
    {
     "data": {
      "text/html": [
       "<div>\n",
       "<style scoped>\n",
       "    .dataframe tbody tr th:only-of-type {\n",
       "        vertical-align: middle;\n",
       "    }\n",
       "\n",
       "    .dataframe tbody tr th {\n",
       "        vertical-align: top;\n",
       "    }\n",
       "\n",
       "    .dataframe thead th {\n",
       "        text-align: right;\n",
       "    }\n",
       "</style>\n",
       "<table border=\"1\" class=\"dataframe\">\n",
       "  <thead>\n",
       "    <tr style=\"text-align: right;\">\n",
       "      <th></th>\n",
       "      <th>count</th>\n",
       "      <th>mean</th>\n",
       "      <th>std</th>\n",
       "      <th>min</th>\n",
       "      <th>25%</th>\n",
       "      <th>50%</th>\n",
       "      <th>75%</th>\n",
       "      <th>max</th>\n",
       "    </tr>\n",
       "  </thead>\n",
       "  <tbody>\n",
       "    <tr>\n",
       "      <th>Mean_Price</th>\n",
       "      <td>58693.0</td>\n",
       "      <td>1.998921</td>\n",
       "      <td>0.051744</td>\n",
       "      <td>1.872</td>\n",
       "      <td>1.97</td>\n",
       "      <td>2.004</td>\n",
       "      <td>2.034</td>\n",
       "      <td>2.102</td>\n",
       "    </tr>\n",
       "    <tr>\n",
       "      <th>Mean_Promotion</th>\n",
       "      <td>58693.0</td>\n",
       "      <td>0.171192</td>\n",
       "      <td>0.166347</td>\n",
       "      <td>0.000</td>\n",
       "      <td>0.00</td>\n",
       "      <td>0.200</td>\n",
       "      <td>0.200</td>\n",
       "      <td>0.600</td>\n",
       "    </tr>\n",
       "  </tbody>\n",
       "</table>\n",
       "</div>"
      ],
      "text/plain": [
       "                  count      mean       std    min   25%    50%    75%    max\n",
       "Mean_Price      58693.0  1.998921  0.051744  1.872  1.97  2.004  2.034  2.102\n",
       "Mean_Promotion  58693.0  0.171192  0.166347  0.000  0.00  0.200  0.200  0.600"
      ]
     },
     "execution_count": 4,
     "metadata": {},
     "output_type": "execute_result"
    }
   ],
   "source": [
    "df['Mean_Price'] = (df['Price_1'] + df['Price_2'] + df['Price_3'] + df['Price_4'] + df['Price_5'] ) / 5\n",
    "df['Mean_Promotion'] = (df['Promotion_1'] + df['Promotion_2'] + df['Promotion_3'] + df['Promotion_4'] + df['Promotion_5'] ) / 5\n",
    "X = df[['Mean_Price', 'Mean_Promotion']]\n",
    "Y = df['Incidence']\n",
    "X.describe().transpose()"
   ]
  },
  {
   "cell_type": "code",
   "execution_count": 5,
   "metadata": {},
   "outputs": [
    {
     "data": {
      "text/plain": [
       "array([0.5 , 0.55, 0.6 , 0.65, 0.7 , 0.75, 0.8 , 0.85, 0.9 , 0.95, 1.  ,\n",
       "       1.05, 1.1 , 1.15, 1.2 , 1.25, 1.3 , 1.35, 1.4 , 1.45, 1.5 , 1.55,\n",
       "       1.6 , 1.65, 1.7 , 1.75, 1.8 , 1.85, 1.9 , 1.95, 2.  , 2.05, 2.1 ,\n",
       "       2.15, 2.2 , 2.25, 2.3 , 2.35, 2.4 , 2.45, 2.5 , 2.55, 2.6 , 2.65,\n",
       "       2.7 , 2.75, 2.8 , 2.85, 2.9 , 2.95, 3.  , 3.05, 3.1 , 3.15, 3.2 ,\n",
       "       3.25, 3.3 , 3.35, 3.4 , 3.45])"
      ]
     },
     "execution_count": 5,
     "metadata": {},
     "output_type": "execute_result"
    }
   ],
   "source": [
    "price_range = np.arange(0.5, 3.5, 0.05)\n",
    "price_range"
   ]
  },
  {
   "cell_type": "code",
   "execution_count": 6,
   "metadata": {},
   "outputs": [
    {
     "data": {
      "text/plain": [
       "(60, 2)"
      ]
     },
     "execution_count": 6,
     "metadata": {},
     "output_type": "execute_result"
    }
   ],
   "source": [
    "df_test = pd.DataFrame(price_range)\n",
    "df_test = df_test.rename(columns = {0: 'Mean_Price'})\n",
    "df_test['Mean_Promotion'] = 1\n",
    "df_test.shape"
   ]
  },
  {
   "cell_type": "markdown",
   "metadata": {},
   "source": [
    "# 4. model"
   ]
  },
  {
   "cell_type": "code",
   "execution_count": 7,
   "metadata": {},
   "outputs": [
    {
     "data": {
      "text/plain": [
       "array([[-1.49382575,  0.56144157]])"
      ]
     },
     "execution_count": 7,
     "metadata": {},
     "output_type": "execute_result"
    }
   ],
   "source": [
    "model_purchase = LogisticRegression(solver = 'sag')\n",
    "model_purchase.fit(X, Y)\n",
    "model_purchase.coef_"
   ]
  },
  {
   "cell_type": "code",
   "execution_count": 8,
   "metadata": {},
   "outputs": [
    {
     "data": {
      "text/plain": [
       "-1.4938257450214631"
      ]
     },
     "execution_count": 8,
     "metadata": {},
     "output_type": "execute_result"
    }
   ],
   "source": [
    "Beta = model_purchase.coef_[0][0]\n",
    "Beta"
   ]
  },
  {
   "cell_type": "markdown",
   "metadata": {},
   "source": [
    "# 5. price elasticity"
   ]
  },
  {
   "cell_type": "code",
   "execution_count": 9,
   "metadata": {},
   "outputs": [
    {
     "data": {
      "text/plain": [
       "array([0.83174697, 0.8210339 , 0.8097947 , 0.7980233 , 0.78571617,\n",
       "       0.77287255, 0.75949477, 0.7455884 , 0.73116257, 0.71623009,\n",
       "       0.70080758, 0.68491561, 0.66857873, 0.65182538, 0.63468789,\n",
       "       0.61720225, 0.59940792, 0.58134749, 0.56306635, 0.54461226,\n",
       "       0.52603482, 0.50738503, 0.48871466, 0.47007573, 0.45151989,\n",
       "       0.43309789, 0.41485899, 0.3968505 , 0.37911725, 0.36170121,\n",
       "       0.34464113, 0.32797226, 0.31172611, 0.29593035, 0.28060866,\n",
       "       0.26578079, 0.25146257, 0.23766602, 0.2243995 , 0.2116679 ,\n",
       "       0.19947287, 0.18781305, 0.17668436, 0.16608025, 0.15599199,\n",
       "       0.14640893, 0.13731881, 0.12870797, 0.12056162, 0.1128641 ,\n",
       "       0.10559902, 0.09874955, 0.0922985 , 0.08622857, 0.0805224 ,\n",
       "       0.07516279, 0.0701327 , 0.06541542, 0.06099463, 0.05685442])"
      ]
     },
     "execution_count": 9,
     "metadata": {},
     "output_type": "execute_result"
    }
   ],
   "source": [
    "Y_pr = model_purchase.predict_proba(df_test)\n",
    "Y_pr = Y_pr[:, 1]\n",
    "Y_pr"
   ]
  },
  {
   "cell_type": "code",
   "execution_count": 10,
   "metadata": {},
   "outputs": [
    {
     "data": {
      "text/plain": [
       "array([-0.12567035, -0.14703929, -0.17048015, -0.1961167 , -0.2240719 ,\n",
       "       -0.25446662, -0.28741833, -0.3230396 , -0.36143664, -0.40270766,\n",
       "       -0.44694134, -0.49421523, -0.5445942 , -0.59812904, -0.65485516,\n",
       "       -0.71479141, -0.7779392 , -0.84428176, -0.91378382, -0.98639141,\n",
       "       -1.06203208, -1.14061543, -1.22203392, -1.30616396, -1.39286731,\n",
       "       -1.4819927 , -1.57337766, -1.66685046, -1.76223222, -1.85933898,\n",
       "       -1.95798391, -2.05797931, -2.15913863, -2.26127835, -2.36421967,\n",
       "       -2.46779   , -2.5718243 , -2.67616618, -2.78066878, -2.88519542,\n",
       "       -2.98962009, -3.09382772, -3.19771424, -3.30118659, -3.40416242,\n",
       "       -3.50656986, -3.60834705, -3.70944165, -3.8098103 , -3.90941803,\n",
       "       -4.00823761, -4.10624893, -4.20343837, -4.29979816, -4.39532577,\n",
       "       -4.49002333, -4.58389707, -4.67695678, -4.76921534, -4.86068825])"
      ]
     },
     "execution_count": 10,
     "metadata": {},
     "output_type": "execute_result"
    }
   ],
   "source": [
    "price_elasticity = Beta * price_range * (1 - Y_pr)\n",
    "price_elasticity"
   ]
  },
  {
   "cell_type": "code",
   "execution_count": 11,
   "metadata": {},
   "outputs": [
    {
     "data": {
      "text/plain": [
       "Text(0.5, 1.0, 'Price Elasticity of Purchase Probability')"
      ]
     },
     "execution_count": 11,
     "metadata": {},
     "output_type": "execute_result"
    },
    {
     "data": {
      "image/png": "[encoded data removed]",
      "text/plain": [
       "<Figure size 576x288 with 1 Axes>"
      ]
     },
     "metadata": {
      "needs_background": "light"
     },
     "output_type": "display_data"
    }
   ],
   "source": [
    "plt.plot(price_range,price_elasticity,color='darkred')\n",
    "plt.xlabel('Price')\n",
    "plt.ylabel('Elasticity')\n",
    "plt.title('Price Elasticity of Purchase Probability')"
   ]
  }
 ],
 "metadata": {
  "kernelspec": {
   "display_name": "Python 3",
   "language": "python",
   "name": "python3"
  },
  "language_info": {
   "codemirror_mode": {
    "name": "ipython",
    "version": 3
   },
   "file_extension": ".py",
   "mimetype": "text/x-python",
   "name": "python",
   "nbconvert_exporter": "python",
   "pygments_lexer": "ipython3",
   "version": "3.7.6"
  }
 },
 "nbformat": 4,
 "nbformat_minor": 4
}
