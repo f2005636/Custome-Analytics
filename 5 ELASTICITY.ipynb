{
 "cells": [
  {
   "cell_type": "markdown",
   "metadata": {},
   "source": [
    "# 1. import library"
   ]
  },
  {
   "cell_type": "code",
   "execution_count": 1,
   "metadata": {},
   "outputs": [],
   "source": [
    "import numpy as np\n",
    "import pandas as pd\n",
    "from sklearn.linear_model import LogisticRegression\n",
    "from sklearn.linear_model import LinearRegression"
   ]
  },
  {
   "cell_type": "code",
   "execution_count": 2,
   "metadata": {},
   "outputs": [],
   "source": [
    "import matplotlib.pyplot as plt\n",
    "import seaborn as sns\n",
    "plt.style.use('seaborn-white')\n",
    "%matplotlib inline\n",
    "plt.rcParams['figure.figsize'] = 8,4"
   ]
  },
  {
   "cell_type": "markdown",
   "metadata": {},
   "source": [
    "# 2. import data"
   ]
  },
  {
   "cell_type": "code",
   "execution_count": 3,
   "metadata": {},
   "outputs": [
    {
     "data": {
      "text/plain": [
       "(14638, 24)"
      ]
     },
     "execution_count": 3,
     "metadata": {},
     "output_type": "execute_result"
    }
   ],
   "source": [
    "df = pd.read_csv('0 Data/raw_data.csv')\n",
    "df = df[df['Incidence']==1]\n",
    "df.shape"
   ]
  },
  {
   "cell_type": "markdown",
   "metadata": {},
   "source": [
    "# 3. model data"
   ]
  },
  {
   "cell_type": "code",
   "execution_count": 4,
   "metadata": {},
   "outputs": [
    {
     "data": {
      "text/html": [
       "<div>\n",
       "<style scoped>\n",
       "    .dataframe tbody tr th:only-of-type {\n",
       "        vertical-align: middle;\n",
       "    }\n",
       "\n",
       "    .dataframe tbody tr th {\n",
       "        vertical-align: top;\n",
       "    }\n",
       "\n",
       "    .dataframe thead th {\n",
       "        text-align: right;\n",
       "    }\n",
       "</style>\n",
       "<table border=\"1\" class=\"dataframe\">\n",
       "  <thead>\n",
       "    <tr style=\"text-align: right;\">\n",
       "      <th></th>\n",
       "      <th>count</th>\n",
       "      <th>mean</th>\n",
       "      <th>std</th>\n",
       "      <th>min</th>\n",
       "      <th>25%</th>\n",
       "      <th>50%</th>\n",
       "      <th>75%</th>\n",
       "      <th>max</th>\n",
       "    </tr>\n",
       "  </thead>\n",
       "  <tbody>\n",
       "    <tr>\n",
       "      <th>Mean_Price</th>\n",
       "      <td>14638.0</td>\n",
       "      <td>1.993985</td>\n",
       "      <td>0.052734</td>\n",
       "      <td>1.872</td>\n",
       "      <td>1.966</td>\n",
       "      <td>2.002</td>\n",
       "      <td>2.03</td>\n",
       "      <td>2.102</td>\n",
       "    </tr>\n",
       "    <tr>\n",
       "      <th>Mean_Promotion</th>\n",
       "      <td>14638.0</td>\n",
       "      <td>0.187895</td>\n",
       "      <td>0.167939</td>\n",
       "      <td>0.000</td>\n",
       "      <td>0.000</td>\n",
       "      <td>0.200</td>\n",
       "      <td>0.20</td>\n",
       "      <td>0.600</td>\n",
       "    </tr>\n",
       "  </tbody>\n",
       "</table>\n",
       "</div>"
      ],
      "text/plain": [
       "                  count      mean       std    min    25%    50%   75%    max\n",
       "Mean_Price      14638.0  1.993985  0.052734  1.872  1.966  2.002  2.03  2.102\n",
       "Mean_Promotion  14638.0  0.187895  0.167939  0.000  0.000  0.200  0.20  0.600"
      ]
     },
     "execution_count": 4,
     "metadata": {},
     "output_type": "execute_result"
    }
   ],
   "source": [
    "df['Mean_Price'] = (df['Price_1'] + df['Price_2'] + df['Price_3'] + df['Price_4'] + df['Price_5'] ) / 5\n",
    "df['Mean_Promotion'] = (df['Promotion_1'] + df['Promotion_2'] + df['Promotion_3'] + df['Promotion_4'] + df['Promotion_5'] ) / 5\n",
    "X = df[['Mean_Price', 'Mean_Promotion']]\n",
    "Y = df['Quantity']\n",
    "X.describe().transpose()"
   ]
  },
  {
   "cell_type": "code",
   "execution_count": 5,
   "metadata": {},
   "outputs": [
    {
     "data": {
      "text/plain": [
       "array([0.5 , 0.55, 0.6 , 0.65, 0.7 , 0.75, 0.8 , 0.85, 0.9 , 0.95, 1.  ,\n",
       "       1.05, 1.1 , 1.15, 1.2 , 1.25, 1.3 , 1.35, 1.4 , 1.45, 1.5 , 1.55,\n",
       "       1.6 , 1.65, 1.7 , 1.75, 1.8 , 1.85, 1.9 , 1.95, 2.  , 2.05, 2.1 ,\n",
       "       2.15, 2.2 , 2.25, 2.3 , 2.35, 2.4 , 2.45, 2.5 , 2.55, 2.6 , 2.65,\n",
       "       2.7 , 2.75, 2.8 , 2.85, 2.9 , 2.95, 3.  , 3.05, 3.1 , 3.15, 3.2 ,\n",
       "       3.25, 3.3 , 3.35, 3.4 , 3.45])"
      ]
     },
     "execution_count": 5,
     "metadata": {},
     "output_type": "execute_result"
    }
   ],
   "source": [
    "price_range = np.arange(0.5, 3.5, 0.05)\n",
    "price_range"
   ]
  },
  {
   "cell_type": "code",
   "execution_count": 6,
   "metadata": {},
   "outputs": [
    {
     "data": {
      "text/plain": [
       "(60, 2)"
      ]
     },
     "execution_count": 6,
     "metadata": {},
     "output_type": "execute_result"
    }
   ],
   "source": [
    "df_test = pd.DataFrame(price_range)\n",
    "df_test = df_test.rename(columns = {0: 'Mean_Price'})\n",
    "df_test['Mean_Promotion'] = 1\n",
    "df_test.shape"
   ]
  },
  {
   "cell_type": "markdown",
   "metadata": {},
   "source": [
    "# 4. model"
   ]
  },
  {
   "cell_type": "code",
   "execution_count": 7,
   "metadata": {},
   "outputs": [
    {
     "data": {
      "text/plain": [
       "array([-1.62946017,  0.21084495])"
      ]
     },
     "execution_count": 7,
     "metadata": {},
     "output_type": "execute_result"
    }
   ],
   "source": [
    "model_purchase = LinearRegression()\n",
    "model_purchase.fit(X, Y)\n",
    "model_purchase.coef_"
   ]
  },
  {
   "cell_type": "code",
   "execution_count": 8,
   "metadata": {},
   "outputs": [
    {
     "data": {
      "text/plain": [
       "-1.6294601658707784"
      ]
     },
     "execution_count": 8,
     "metadata": {},
     "output_type": "execute_result"
    }
   ],
   "source": [
    "Beta = model_purchase.coef_[0]\n",
    "Beta"
   ]
  },
  {
   "cell_type": "markdown",
   "metadata": {},
   "source": [
    "# 5. price elasticity"
   ]
  },
  {
   "cell_type": "code",
   "execution_count": 9,
   "metadata": {
    "scrolled": true
   },
   "outputs": [
    {
     "data": {
      "text/plain": [
       "array([5.38017626, 5.29870325, 5.21723024, 5.13575723, 5.05428422,\n",
       "       4.97281122, 4.89133821, 4.8098652 , 4.72839219, 4.64691918,\n",
       "       4.56544617, 4.48397317, 4.40250016, 4.32102715, 4.23955414,\n",
       "       4.15808113, 4.07660812, 3.99513512, 3.91366211, 3.8321891 ,\n",
       "       3.75071609, 3.66924308, 3.58777007, 3.50629707, 3.42482406,\n",
       "       3.34335105, 3.26187804, 3.18040503, 3.09893202, 3.01745902,\n",
       "       2.93598601, 2.854513  , 2.77303999, 2.69156698, 2.61009397,\n",
       "       2.52862097, 2.44714796, 2.36567495, 2.28420194, 2.20272893,\n",
       "       2.12125592, 2.03978292, 1.95830991, 1.8768369 , 1.79536389,\n",
       "       1.71389088, 1.63241787, 1.55094487, 1.46947186, 1.38799885,\n",
       "       1.30652584, 1.22505283, 1.14357983, 1.06210682, 0.98063381,\n",
       "       0.8991608 , 0.81768779, 0.73621478, 0.65474178, 0.57326877])"
      ]
     },
     "execution_count": 9,
     "metadata": {},
     "output_type": "execute_result"
    }
   ],
   "source": [
    "predict_quantity = model_purchase.predict(df_test)\n",
    "predict_quantity"
   ]
  },
  {
   "cell_type": "code",
   "execution_count": 10,
   "metadata": {},
   "outputs": [
    {
     "data": {
      "text/plain": [
       "array([-0.15143186, -0.16913631, -0.1873937 , -0.20623037, -0.22567431,\n",
       "       -0.24575538, -0.26650542, -0.28795841, -0.3101507 , -0.33312117,\n",
       "       -0.35691148, -0.38156633, -0.4071337 , -0.43366522, -0.46121647,\n",
       "       -0.48984739, -0.51962272, -0.55061247, -0.58289249, -0.61654506,\n",
       "       -0.65165963, -0.68833359, -0.72667317, -0.76679449, -0.8088247 ,\n",
       "       -0.85290334, -0.89918392, -0.94783566, -0.99904557, -1.05302087,\n",
       "       -1.10999178, -1.17021479, -1.23397656, -1.30159843, -1.37344188,\n",
       "       -1.44991496, -1.53148009, -1.61866337, -1.71206596, -1.81237798,\n",
       "       -1.92039554, -2.03704198, -2.16339427, -2.3007164 , -2.4505018 ,\n",
       "       -2.61452786, -2.7949268 , -2.99427889, -3.21573663, -3.4631927 ,\n",
       "       -3.74151076, -4.0568483 , -4.41711755, -4.83265849, -5.31724736,\n",
       "       -5.88965348, -6.57612673, -7.41453673, -8.46160238, -9.80628615])"
      ]
     },
     "execution_count": 10,
     "metadata": {},
     "output_type": "execute_result"
    }
   ],
   "source": [
    "price_elasticity = Beta * price_range / predict_quantity\n",
    "price_elasticity"
   ]
  },
  {
   "cell_type": "code",
   "execution_count": 11,
   "metadata": {},
   "outputs": [
    {
     "data": {
      "text/plain": [
       "Text(0.5, 1.0, 'Price Elasticity of Purchase Probability')"
      ]
     },
     "execution_count": 11,
     "metadata": {},
     "output_type": "execute_result"
    },
    {
     "data": {
      "image/png": "[encoded data removed]",
      "text/plain": [
       "<Figure size 576x288 with 1 Axes>"
      ]
     },
     "metadata": {
      "needs_background": "light"
     },
     "output_type": "display_data"
    }
   ],
   "source": [
    "plt.plot(price_range,price_elasticity,color='darkred')\n",
    "plt.xlabel('Price')\n",
    "plt.ylabel('Elasticity')\n",
    "plt.title('Price Elasticity of Purchase Probability')"
   ]
  }
 ],
 "metadata": {
  "kernelspec": {
   "display_name": "Python 3",
   "language": "python",
   "name": "python3"
  },
  "language_info": {
   "codemirror_mode": {
    "name": "ipython",
    "version": 3
   },
   "file_extension": ".py",
   "mimetype": "text/x-python",
   "name": "python",
   "nbconvert_exporter": "python",
   "pygments_lexer": "ipython3",
   "version": "3.7.6"
  }
 },
 "nbformat": 4,
 "nbformat_minor": 4
}
