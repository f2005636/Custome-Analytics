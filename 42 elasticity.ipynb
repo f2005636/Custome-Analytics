{
 "cells": [
  {
   "cell_type": "markdown",
   "metadata": {},
   "source": [
    "# 1. import library"
   ]
  },
  {
   "cell_type": "code",
   "execution_count": 1,
   "metadata": {},
   "outputs": [],
   "source": [
    "import numpy as np\n",
    "import pandas as pd\n",
    "from sklearn.linear_model import LogisticRegression\n",
    "from sklearn.linear_model import LinearRegression"
   ]
  },
  {
   "cell_type": "code",
   "execution_count": 2,
   "metadata": {},
   "outputs": [],
   "source": [
    "import matplotlib.pyplot as plt\n",
    "import seaborn as sns\n",
    "plt.style.use('seaborn-white')\n",
    "%matplotlib inline\n",
    "plt.rcParams['figure.figsize'] = 8,4"
   ]
  },
  {
   "cell_type": "markdown",
   "metadata": {},
   "source": [
    "# 2. import data"
   ]
  },
  {
   "cell_type": "code",
   "execution_count": 3,
   "metadata": {},
   "outputs": [
    {
     "data": {
      "text/plain": [
       "(7905, 4)"
      ]
     },
     "execution_count": 3,
     "metadata": {},
     "output_type": "execute_result"
    }
   ],
   "source": [
    "df = pd.read_csv('0 Data/clean_data3.csv')\n",
    "df.drop(['Unnamed: 0'], axis=1, inplace=True)\n",
    "df.shape"
   ]
  },
  {
   "cell_type": "markdown",
   "metadata": {},
   "source": [
    "# 3. model data (own price)"
   ]
  },
  {
   "cell_type": "code",
   "execution_count": 4,
   "metadata": {},
   "outputs": [
    {
     "data": {
      "text/html": [
       "<div>\n",
       "<style scoped>\n",
       "    .dataframe tbody tr th:only-of-type {\n",
       "        vertical-align: middle;\n",
       "    }\n",
       "\n",
       "    .dataframe tbody tr th {\n",
       "        vertical-align: top;\n",
       "    }\n",
       "\n",
       "    .dataframe thead th {\n",
       "        text-align: right;\n",
       "    }\n",
       "</style>\n",
       "<table border=\"1\" class=\"dataframe\">\n",
       "  <thead>\n",
       "    <tr style=\"text-align: right;\">\n",
       "      <th></th>\n",
       "      <th>count</th>\n",
       "      <th>mean</th>\n",
       "      <th>std</th>\n",
       "      <th>min</th>\n",
       "      <th>25%</th>\n",
       "      <th>50%</th>\n",
       "      <th>75%</th>\n",
       "      <th>max</th>\n",
       "    </tr>\n",
       "  </thead>\n",
       "  <tbody>\n",
       "    <tr>\n",
       "      <th>PriceA</th>\n",
       "      <td>7905.0</td>\n",
       "      <td>2.648067</td>\n",
       "      <td>0.098034</td>\n",
       "      <td>2.11</td>\n",
       "      <td>2.63</td>\n",
       "      <td>2.67</td>\n",
       "      <td>2.70</td>\n",
       "      <td>2.80</td>\n",
       "    </tr>\n",
       "    <tr>\n",
       "      <th>PriceB</th>\n",
       "      <td>7905.0</td>\n",
       "      <td>2.153665</td>\n",
       "      <td>0.095304</td>\n",
       "      <td>1.76</td>\n",
       "      <td>2.12</td>\n",
       "      <td>2.16</td>\n",
       "      <td>2.21</td>\n",
       "      <td>2.26</td>\n",
       "    </tr>\n",
       "  </tbody>\n",
       "</table>\n",
       "</div>"
      ],
      "text/plain": [
       "         count      mean       std   min   25%   50%   75%   max\n",
       "PriceA  7905.0  2.648067  0.098034  2.11  2.63  2.67  2.70  2.80\n",
       "PriceB  7905.0  2.153665  0.095304  1.76  2.12  2.16  2.21  2.26"
      ]
     },
     "execution_count": 4,
     "metadata": {},
     "output_type": "execute_result"
    }
   ],
   "source": [
    "X = df[['PriceA', 'PriceB']]\n",
    "Y = df['YA']\n",
    "X.describe().transpose()"
   ]
  },
  {
   "cell_type": "markdown",
   "metadata": {},
   "source": [
    "# 4. model (own)"
   ]
  },
  {
   "cell_type": "code",
   "execution_count": 5,
   "metadata": {},
   "outputs": [
    {
     "data": {
      "text/plain": [
       "array([[-1.37408651,  1.02289828]])"
      ]
     },
     "execution_count": 5,
     "metadata": {},
     "output_type": "execute_result"
    }
   ],
   "source": [
    "model_purchase = LogisticRegression(solver = 'sag')\n",
    "model_purchase.fit(X, Y)\n",
    "model_purchase.coef_"
   ]
  },
  {
   "cell_type": "code",
   "execution_count": 6,
   "metadata": {},
   "outputs": [
    {
     "data": {
      "text/plain": [
       "-1.3740865124123043"
      ]
     },
     "execution_count": 6,
     "metadata": {},
     "output_type": "execute_result"
    }
   ],
   "source": [
    "Beta = model_purchase.coef_[0][0]\n",
    "Beta"
   ]
  },
  {
   "cell_type": "markdown",
   "metadata": {},
   "source": [
    "# 5. model data (cross)"
   ]
  },
  {
   "cell_type": "code",
   "execution_count": 7,
   "metadata": {},
   "outputs": [
    {
     "data": {
      "text/html": [
       "<div>\n",
       "<style scoped>\n",
       "    .dataframe tbody tr th:only-of-type {\n",
       "        vertical-align: middle;\n",
       "    }\n",
       "\n",
       "    .dataframe tbody tr th {\n",
       "        vertical-align: top;\n",
       "    }\n",
       "\n",
       "    .dataframe thead th {\n",
       "        text-align: right;\n",
       "    }\n",
       "</style>\n",
       "<table border=\"1\" class=\"dataframe\">\n",
       "  <thead>\n",
       "    <tr style=\"text-align: right;\">\n",
       "      <th></th>\n",
       "      <th>count</th>\n",
       "      <th>mean</th>\n",
       "      <th>std</th>\n",
       "      <th>min</th>\n",
       "      <th>25%</th>\n",
       "      <th>50%</th>\n",
       "      <th>75%</th>\n",
       "      <th>max</th>\n",
       "    </tr>\n",
       "  </thead>\n",
       "  <tbody>\n",
       "    <tr>\n",
       "      <th>PriceB</th>\n",
       "      <td>7905.0</td>\n",
       "      <td>2.153665</td>\n",
       "      <td>0.095304</td>\n",
       "      <td>1.76</td>\n",
       "      <td>2.12</td>\n",
       "      <td>2.16</td>\n",
       "      <td>2.21</td>\n",
       "      <td>2.26</td>\n",
       "    </tr>\n",
       "    <tr>\n",
       "      <th>PriceA</th>\n",
       "      <td>7905.0</td>\n",
       "      <td>2.648067</td>\n",
       "      <td>0.098034</td>\n",
       "      <td>2.11</td>\n",
       "      <td>2.63</td>\n",
       "      <td>2.67</td>\n",
       "      <td>2.70</td>\n",
       "      <td>2.80</td>\n",
       "    </tr>\n",
       "  </tbody>\n",
       "</table>\n",
       "</div>"
      ],
      "text/plain": [
       "         count      mean       std   min   25%   50%   75%   max\n",
       "PriceB  7905.0  2.153665  0.095304  1.76  2.12  2.16  2.21  2.26\n",
       "PriceA  7905.0  2.648067  0.098034  2.11  2.63  2.67  2.70  2.80"
      ]
     },
     "execution_count": 7,
     "metadata": {},
     "output_type": "execute_result"
    }
   ],
   "source": [
    "X = df[['PriceB', 'PriceA']]\n",
    "Y = df['YB']\n",
    "X.describe().transpose()"
   ]
  },
  {
   "cell_type": "code",
   "execution_count": 8,
   "metadata": {},
   "outputs": [
    {
     "data": {
      "text/plain": [
       "array([0.5 , 0.55, 0.6 , 0.65, 0.7 , 0.75, 0.8 , 0.85, 0.9 , 0.95, 1.  ,\n",
       "       1.05, 1.1 , 1.15, 1.2 , 1.25, 1.3 , 1.35, 1.4 , 1.45, 1.5 , 1.55,\n",
       "       1.6 , 1.65, 1.7 , 1.75, 1.8 , 1.85, 1.9 , 1.95, 2.  , 2.05, 2.1 ,\n",
       "       2.15, 2.2 , 2.25, 2.3 , 2.35, 2.4 , 2.45, 2.5 , 2.55, 2.6 , 2.65,\n",
       "       2.7 , 2.75, 2.8 , 2.85, 2.9 , 2.95, 3.  , 3.05, 3.1 , 3.15, 3.2 ,\n",
       "       3.25, 3.3 , 3.35, 3.4 , 3.45])"
      ]
     },
     "execution_count": 8,
     "metadata": {},
     "output_type": "execute_result"
    }
   ],
   "source": [
    "price_range = np.arange(0.5, 3.5, 0.05)\n",
    "price_range"
   ]
  },
  {
   "cell_type": "code",
   "execution_count": 9,
   "metadata": {},
   "outputs": [
    {
     "data": {
      "text/plain": [
       "(60, 2)"
      ]
     },
     "execution_count": 9,
     "metadata": {},
     "output_type": "execute_result"
    }
   ],
   "source": [
    "df_test = pd.DataFrame(price_range)\n",
    "df_test = df_test.rename(columns = {0: 'PriceB'})\n",
    "df_test['PriceA'] = df['PriceA'].mean()\n",
    "df_test.shape"
   ]
  },
  {
   "cell_type": "markdown",
   "metadata": {},
   "source": [
    "# 6. model (cross)"
   ]
  },
  {
   "cell_type": "code",
   "execution_count": 10,
   "metadata": {},
   "outputs": [
    {
     "data": {
      "text/plain": [
       "array([[-1.02283442,  1.37404382]])"
      ]
     },
     "execution_count": 10,
     "metadata": {},
     "output_type": "execute_result"
    }
   ],
   "source": [
    "model_purchase = LogisticRegression(solver = 'sag')\n",
    "model_purchase.fit(X, Y)\n",
    "model_purchase.coef_"
   ]
  },
  {
   "cell_type": "markdown",
   "metadata": {},
   "source": [
    "# 7. cross price elasticity"
   ]
  },
  {
   "cell_type": "code",
   "execution_count": 11,
   "metadata": {},
   "outputs": [
    {
     "data": {
      "text/plain": [
       "array([0.76083319, 0.7514034 , 0.74172803, 0.73181049, 0.72165503,\n",
       "       0.71126675, 0.70065158, 0.68981634, 0.67876873, 0.66751728,\n",
       "       0.65607143, 0.64444143, 0.63263837, 0.62067412, 0.60856132,\n",
       "       0.59631329, 0.58394403, 0.57146813, 0.55890073, 0.54625739,\n",
       "       0.53355411, 0.52080716, 0.50803306, 0.49524847, 0.48247008,\n",
       "       0.46971458, 0.45699853, 0.44433826, 0.43174986, 0.41924901,\n",
       "       0.40685096, 0.39457046, 0.38242164, 0.37041802, 0.35857242,\n",
       "       0.34689691, 0.33540277, 0.32410049, 0.31299969, 0.30210917,\n",
       "       0.29143683, 0.2809897 , 0.27077395, 0.2607949 , 0.251057  ,\n",
       "       0.24156389, 0.23231839, 0.22332255, 0.21457768, 0.20608439,\n",
       "       0.19784259, 0.18985157, 0.18211005, 0.17461616, 0.16736754,\n",
       "       0.16036137, 0.15359438, 0.14706292, 0.14076303, 0.13469039])"
      ]
     },
     "execution_count": 11,
     "metadata": {},
     "output_type": "execute_result"
    }
   ],
   "source": [
    "Y_pr = model_purchase.predict_proba(df_test)\n",
    "Y_pr = Y_pr[:, 1]\n",
    "Y_pr"
   ]
  },
  {
   "cell_type": "code",
   "execution_count": 12,
   "metadata": {},
   "outputs": [
    {
     "data": {
      "text/plain": [
       "array([0.52272531, 0.5678713 , 0.61151909, 0.6536211 , 0.69413151,\n",
       "       0.73300653, 0.77020471, 0.80568723, 0.83941826, 0.87136517,\n",
       "       0.9014989 , 0.92979419, 0.95622983, 0.98078893, 1.00345907,\n",
       "       1.02423256, 1.0431065 , 1.06008298, 1.07516913, 1.08837712,\n",
       "       1.09972425, 1.10923285, 1.11693021, 1.12284849, 1.12702457,\n",
       "       1.12949983, 1.13031992, 1.12953455, 1.12719716, 1.1233646 ,\n",
       "       1.11809685, 1.11145658, 1.10350887, 1.09432078, 1.08396096,\n",
       "       1.07249931, 1.06000657, 1.04655396, 1.03221278, 1.01705413,\n",
       "       1.00114853, 0.98456559, 0.96737378, 0.94964011, 0.93142992,\n",
       "       0.91280663, 0.89383158, 0.87456383, 0.85506006, 0.83537443,\n",
       "       0.81555848, 0.79566109, 0.77572839, 0.75580379, 0.73592795,\n",
       "       0.71613878, 0.69647147, 0.67695856, 0.65762996, 0.63851304])"
      ]
     },
     "execution_count": 12,
     "metadata": {},
     "output_type": "execute_result"
    }
   ],
   "source": [
    "price_elasticity = -1 * Beta * price_range * Y_pr\n",
    "price_elasticity"
   ]
  },
  {
   "cell_type": "code",
   "execution_count": 13,
   "metadata": {},
   "outputs": [
    {
     "data": {
      "text/plain": [
       "Text(0.5, 1.0, 'Price Elasticity of Purchase Probability')"
      ]
     },
     "execution_count": 13,
     "metadata": {},
     "output_type": "execute_result"
    },
    {
     "data": {
      "image/png": "[encoded data removed]",
      "text/plain": [
       "<Figure size 576x288 with 1 Axes>"
      ]
     },
     "metadata": {
      "needs_background": "light"
     },
     "output_type": "display_data"
    }
   ],
   "source": [
    "plt.plot(price_range,price_elasticity,color='darkred')\n",
    "plt.xlabel('Price')\n",
    "plt.ylabel('Elasticity')\n",
    "plt.title('Price Elasticity of Purchase Probability')"
   ]
  }
 ],
 "metadata": {
  "kernelspec": {
   "display_name": "Python 3",
   "language": "python",
   "name": "python3"
  },
  "language_info": {
   "codemirror_mode": {
    "name": "ipython",
    "version": 3
   },
   "file_extension": ".py",
   "mimetype": "text/x-python",
   "name": "python",
   "nbconvert_exporter": "python",
   "pygments_lexer": "ipython3",
   "version": "3.7.6"
  }
 },
 "nbformat": 4,
 "nbformat_minor": 4
}
