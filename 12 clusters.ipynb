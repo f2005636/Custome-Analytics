{
 "cells": [
  {
   "cell_type": "markdown",
   "metadata": {},
   "source": [
    "# 1. import library"
   ]
  },
  {
   "cell_type": "code",
   "execution_count": 1,
   "metadata": {},
   "outputs": [],
   "source": [
    "import numpy as np\n",
    "import pandas as pd\n",
    "from sklearn.cluster import KMeans"
   ]
  },
  {
   "cell_type": "markdown",
   "metadata": {},
   "source": [
    "# 2. import data"
   ]
  },
  {
   "cell_type": "code",
   "execution_count": 2,
   "metadata": {},
   "outputs": [
    {
     "data": {
      "text/plain": [
       "(58693, 7)"
      ]
     },
     "execution_count": 2,
     "metadata": {},
     "output_type": "execute_result"
    }
   ],
   "source": [
    "df = pd.read_csv('0 Data/clean_data1.csv')\n",
    "df.drop(['Unnamed: 0'], axis=1, inplace=True)\n",
    "df.shape"
   ]
  },
  {
   "cell_type": "code",
   "execution_count": 3,
   "metadata": {},
   "outputs": [],
   "source": [
    "df3 = df[['Income', 'Occupation', 'Settlement size']]"
   ]
  },
  {
   "cell_type": "markdown",
   "metadata": {},
   "source": [
    "# 3. clusters = 2"
   ]
  },
  {
   "cell_type": "code",
   "execution_count": 4,
   "metadata": {},
   "outputs": [
    {
     "data": {
      "text/plain": [
       "array([[ 0.44738552,  0.33630724,  0.30612092,  0.91155096, -0.53031838,\n",
       "         0.40206795,  0.08924668],\n",
       "       [ 0.30209717,  0.47051483,  0.44476859,  1.36050396,  0.72258894,\n",
       "         1.28124623,  1.42800789]])"
      ]
     },
     "execution_count": 4,
     "metadata": {},
     "output_type": "execute_result"
    }
   ],
   "source": [
    "kmeans = KMeans(n_clusters=2)\n",
    "kmeans.fit(df)\n",
    "kmeans.cluster_centers_"
   ]
  },
  {
   "cell_type": "code",
   "execution_count": 5,
   "metadata": {},
   "outputs": [
    {
     "data": {
      "text/plain": [
       "array([[-0.53344535,  0.39734589,  0.08661394],\n",
       "       [ 0.72225   ,  1.2844309 ,  1.42668645]])"
      ]
     },
     "execution_count": 5,
     "metadata": {},
     "output_type": "execute_result"
    }
   ],
   "source": [
    "kmeans = KMeans(n_clusters=2)\n",
    "kmeans.fit(df3)\n",
    "kmeans.cluster_centers_"
   ]
  },
  {
   "cell_type": "markdown",
   "metadata": {},
   "source": [
    "# 4. clusters = 3"
   ]
  },
  {
   "cell_type": "code",
   "execution_count": 6,
   "metadata": {},
   "outputs": [
    {
     "data": {
      "text/plain": [
       "array([[ 0.44923698,  0.33409005,  0.31325271,  0.92558961, -0.54142033,\n",
       "         0.37365998,  0.02099886],\n",
       "       [ 0.44794999,  0.65396918,  0.54266081,  1.7973248 ,  1.91783454,\n",
       "         1.74134923,  1.23727828],\n",
       "       [ 0.26468979,  0.39698492,  0.38529455,  1.14120105,  0.19806066,\n",
       "         1.07527738,  1.4588288 ]])"
      ]
     },
     "execution_count": 6,
     "metadata": {},
     "output_type": "execute_result"
    }
   ],
   "source": [
    "kmeans = KMeans(n_clusters=3)\n",
    "kmeans.fit(df)\n",
    "kmeans.cluster_centers_"
   ]
  },
  {
   "cell_type": "code",
   "execution_count": 7,
   "metadata": {
    "scrolled": true
   },
   "outputs": [
    {
     "data": {
      "text/plain": [
       "array([[-0.54250553,  0.36726849,  0.02511264],\n",
       "       [ 0.26797263,  1.11777321,  1.43011636],\n",
       "       [ 2.25052127,  1.84249157,  1.26145606]])"
      ]
     },
     "execution_count": 7,
     "metadata": {},
     "output_type": "execute_result"
    }
   ],
   "source": [
    "kmeans = KMeans(n_clusters=3)\n",
    "kmeans.fit(df3)\n",
    "kmeans.cluster_centers_"
   ]
  },
  {
   "cell_type": "markdown",
   "metadata": {},
   "source": [
    "# 5. clusters = 4"
   ]
  },
  {
   "cell_type": "code",
   "execution_count": 8,
   "metadata": {},
   "outputs": [
    {
     "data": {
      "text/plain": [
       "array([[ 2.59994135e-01,  3.91017496e-01,  3.82644251e-01,\n",
       "         1.13454208e+00,  1.78370556e-01,  1.04657414e+00,\n",
       "         1.46017007e+00],\n",
       "       [ 4.54093550e-01,  3.62460322e-01,  2.98040724e-01,\n",
       "         9.07887644e-01, -9.91426544e-01,  1.51545443e-13,\n",
       "         6.52811882e-03],\n",
       "       [ 4.44961706e-01,  6.57756420e-01,  5.47990716e-01,\n",
       "         1.80582670e+00,  1.94694034e+00,  1.75056315e+00,\n",
       "         1.27796967e+00],\n",
       "       [ 4.56067227e-01,  3.11932773e-01,  3.33207135e-01,\n",
       "         9.58386555e-01, -4.07697742e-03,  8.31462185e-01,\n",
       "         5.80646642e-14]])"
      ]
     },
     "execution_count": 8,
     "metadata": {},
     "output_type": "execute_result"
    }
   ],
   "source": [
    "kmeans = KMeans(n_clusters=4)\n",
    "kmeans.fit(df)\n",
    "kmeans.cluster_centers_"
   ]
  },
  {
   "cell_type": "code",
   "execution_count": 9,
   "metadata": {},
   "outputs": [
    {
     "data": {
      "text/plain": [
       "array([[ 6.31855447e-02,  9.32280383e-01,  2.83106871e-14],\n",
       "       [ 3.01632708e-01,  1.14718519e+00,  1.45298312e+00],\n",
       "       [-9.15138502e-01,  1.54765090e-13,  4.28540470e-02],\n",
       "       [ 2.74038306e+00,  1.85129890e+00,  1.46372051e+00]])"
      ]
     },
     "execution_count": 9,
     "metadata": {},
     "output_type": "execute_result"
    }
   ],
   "source": [
    "kmeans = KMeans(n_clusters=4)\n",
    "kmeans.fit(df3)\n",
    "kmeans.cluster_centers_"
   ]
  }
 ],
 "metadata": {
  "kernelspec": {
   "display_name": "Python 3",
   "language": "python",
   "name": "python3"
  },
  "language_info": {
   "codemirror_mode": {
    "name": "ipython",
    "version": 3
   },
   "file_extension": ".py",
   "mimetype": "text/x-python",
   "name": "python",
   "nbconvert_exporter": "python",
   "pygments_lexer": "ipython3",
   "version": "3.7.6"
  }
 },
 "nbformat": 4,
 "nbformat_minor": 4
}
