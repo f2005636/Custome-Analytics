{
 "cells": [
  {
   "cell_type": "markdown",
   "metadata": {},
   "source": [
    "# 1. import library"
   ]
  },
  {
   "cell_type": "code",
   "execution_count": 1,
   "metadata": {},
   "outputs": [],
   "source": [
    "import numpy as np\n",
    "import pandas as pd"
   ]
  },
  {
   "cell_type": "markdown",
   "metadata": {},
   "source": [
    "# 2. import data"
   ]
  },
  {
   "cell_type": "code",
   "execution_count": 2,
   "metadata": {},
   "outputs": [
    {
     "data": {
      "text/plain": [
       "(58693, 24)"
      ]
     },
     "execution_count": 2,
     "metadata": {},
     "output_type": "execute_result"
    }
   ],
   "source": [
    "df = pd.read_csv('0 Data/raw_data.csv')\n",
    "df.shape"
   ]
  },
  {
   "cell_type": "code",
   "execution_count": 3,
   "metadata": {},
   "outputs": [
    {
     "data": {
      "text/plain": [
       "Index(['ID', 'Day', 'Incidence', 'Brand', 'Quantity', 'Last_Inc_Brand',\n",
       "       'Last_Inc_Quantity', 'Price_1', 'Price_2', 'Price_3', 'Price_4',\n",
       "       'Price_5', 'Promotion_1', 'Promotion_2', 'Promotion_3', 'Promotion_4',\n",
       "       'Promotion_5', 'Sex', 'Marital status', 'Age', 'Education', 'Income',\n",
       "       'Occupation', 'Settlement size'],\n",
       "      dtype='object')"
      ]
     },
     "execution_count": 3,
     "metadata": {},
     "output_type": "execute_result"
    }
   ],
   "source": [
    "df.columns"
   ]
  },
  {
   "cell_type": "markdown",
   "metadata": {},
   "source": [
    "# 3. demographics"
   ]
  },
  {
   "cell_type": "code",
   "execution_count": 4,
   "metadata": {},
   "outputs": [
    {
     "data": {
      "text/plain": [
       "(58693, 7)"
      ]
     },
     "execution_count": 4,
     "metadata": {},
     "output_type": "execute_result"
    }
   ],
   "source": [
    "df = df[['Sex', 'Marital status', 'Age', 'Education', 'Income', 'Occupation', 'Settlement size']]\n",
    "df.shape"
   ]
  },
  {
   "cell_type": "code",
   "execution_count": 5,
   "metadata": {},
   "outputs": [
    {
     "data": {
      "text/html": [
       "<div>\n",
       "<style scoped>\n",
       "    .dataframe tbody tr th:only-of-type {\n",
       "        vertical-align: middle;\n",
       "    }\n",
       "\n",
       "    .dataframe tbody tr th {\n",
       "        vertical-align: top;\n",
       "    }\n",
       "\n",
       "    .dataframe thead th {\n",
       "        text-align: right;\n",
       "    }\n",
       "</style>\n",
       "<table border=\"1\" class=\"dataframe\">\n",
       "  <thead>\n",
       "    <tr style=\"text-align: right;\">\n",
       "      <th></th>\n",
       "      <th>Sex</th>\n",
       "      <th>Marital status</th>\n",
       "      <th>Age</th>\n",
       "      <th>Education</th>\n",
       "      <th>Income</th>\n",
       "      <th>Occupation</th>\n",
       "      <th>Settlement size</th>\n",
       "    </tr>\n",
       "  </thead>\n",
       "  <tbody>\n",
       "    <tr>\n",
       "      <th>Sex</th>\n",
       "      <td>1.000000</td>\n",
       "      <td>0.458189</td>\n",
       "      <td>-0.118534</td>\n",
       "      <td>0.198966</td>\n",
       "      <td>-0.085287</td>\n",
       "      <td>-0.077456</td>\n",
       "      <td>-0.206278</td>\n",
       "    </tr>\n",
       "    <tr>\n",
       "      <th>Marital status</th>\n",
       "      <td>0.458189</td>\n",
       "      <td>1.000000</td>\n",
       "      <td>-0.115696</td>\n",
       "      <td>0.399945</td>\n",
       "      <td>0.085560</td>\n",
       "      <td>0.103237</td>\n",
       "      <td>0.054435</td>\n",
       "    </tr>\n",
       "    <tr>\n",
       "      <th>Age</th>\n",
       "      <td>-0.118534</td>\n",
       "      <td>-0.115696</td>\n",
       "      <td>1.000000</td>\n",
       "      <td>0.680265</td>\n",
       "      <td>0.376582</td>\n",
       "      <td>0.178169</td>\n",
       "      <td>0.203453</td>\n",
       "    </tr>\n",
       "    <tr>\n",
       "      <th>Education</th>\n",
       "      <td>0.198966</td>\n",
       "      <td>0.399945</td>\n",
       "      <td>0.680265</td>\n",
       "      <td>1.000000</td>\n",
       "      <td>0.356288</td>\n",
       "      <td>0.197765</td>\n",
       "      <td>0.218504</td>\n",
       "    </tr>\n",
       "    <tr>\n",
       "      <th>Income</th>\n",
       "      <td>-0.085287</td>\n",
       "      <td>0.085560</td>\n",
       "      <td>0.376582</td>\n",
       "      <td>0.356288</td>\n",
       "      <td>1.000000</td>\n",
       "      <td>0.711717</td>\n",
       "      <td>0.493181</td>\n",
       "    </tr>\n",
       "    <tr>\n",
       "      <th>Occupation</th>\n",
       "      <td>-0.077456</td>\n",
       "      <td>0.103237</td>\n",
       "      <td>0.178169</td>\n",
       "      <td>0.197765</td>\n",
       "      <td>0.711717</td>\n",
       "      <td>1.000000</td>\n",
       "      <td>0.567780</td>\n",
       "    </tr>\n",
       "    <tr>\n",
       "      <th>Settlement size</th>\n",
       "      <td>-0.206278</td>\n",
       "      <td>0.054435</td>\n",
       "      <td>0.203453</td>\n",
       "      <td>0.218504</td>\n",
       "      <td>0.493181</td>\n",
       "      <td>0.567780</td>\n",
       "      <td>1.000000</td>\n",
       "    </tr>\n",
       "  </tbody>\n",
       "</table>\n",
       "</div>"
      ],
      "text/plain": [
       "                      Sex  Marital status       Age  Education    Income  \\\n",
       "Sex              1.000000        0.458189 -0.118534   0.198966 -0.085287   \n",
       "Marital status   0.458189        1.000000 -0.115696   0.399945  0.085560   \n",
       "Age             -0.118534       -0.115696  1.000000   0.680265  0.376582   \n",
       "Education        0.198966        0.399945  0.680265   1.000000  0.356288   \n",
       "Income          -0.085287        0.085560  0.376582   0.356288  1.000000   \n",
       "Occupation      -0.077456        0.103237  0.178169   0.197765  0.711717   \n",
       "Settlement size -0.206278        0.054435  0.203453   0.218504  0.493181   \n",
       "\n",
       "                 Occupation  Settlement size  \n",
       "Sex               -0.077456        -0.206278  \n",
       "Marital status     0.103237         0.054435  \n",
       "Age                0.178169         0.203453  \n",
       "Education          0.197765         0.218504  \n",
       "Income             0.711717         0.493181  \n",
       "Occupation         1.000000         0.567780  \n",
       "Settlement size    0.567780         1.000000  "
      ]
     },
     "execution_count": 5,
     "metadata": {},
     "output_type": "execute_result"
    }
   ],
   "source": [
    "df.corr()"
   ]
  },
  {
   "cell_type": "markdown",
   "metadata": {},
   "source": [
    "# 4. scaling"
   ]
  },
  {
   "cell_type": "code",
   "execution_count": 6,
   "metadata": {},
   "outputs": [
    {
     "data": {
      "text/html": [
       "<div>\n",
       "<style scoped>\n",
       "    .dataframe tbody tr th:only-of-type {\n",
       "        vertical-align: middle;\n",
       "    }\n",
       "\n",
       "    .dataframe tbody tr th {\n",
       "        vertical-align: top;\n",
       "    }\n",
       "\n",
       "    .dataframe thead th {\n",
       "        text-align: right;\n",
       "    }\n",
       "</style>\n",
       "<table border=\"1\" class=\"dataframe\">\n",
       "  <thead>\n",
       "    <tr style=\"text-align: right;\">\n",
       "      <th></th>\n",
       "      <th>count</th>\n",
       "      <th>mean</th>\n",
       "      <th>std</th>\n",
       "      <th>min</th>\n",
       "      <th>25%</th>\n",
       "      <th>50%</th>\n",
       "      <th>75%</th>\n",
       "      <th>max</th>\n",
       "    </tr>\n",
       "  </thead>\n",
       "  <tbody>\n",
       "    <tr>\n",
       "      <th>Sex</th>\n",
       "      <td>58693.0</td>\n",
       "      <td>0.385889</td>\n",
       "      <td>0.486809</td>\n",
       "      <td>0.0</td>\n",
       "      <td>0.0</td>\n",
       "      <td>0.0</td>\n",
       "      <td>1.0</td>\n",
       "      <td>1.0</td>\n",
       "    </tr>\n",
       "    <tr>\n",
       "      <th>Marital status</th>\n",
       "      <td>58693.0</td>\n",
       "      <td>0.393113</td>\n",
       "      <td>0.488446</td>\n",
       "      <td>0.0</td>\n",
       "      <td>0.0</td>\n",
       "      <td>0.0</td>\n",
       "      <td>1.0</td>\n",
       "      <td>1.0</td>\n",
       "    </tr>\n",
       "    <tr>\n",
       "      <th>Age</th>\n",
       "      <td>58693.0</td>\n",
       "      <td>38.793962</td>\n",
       "      <td>12.052447</td>\n",
       "      <td>18.0</td>\n",
       "      <td>30.0</td>\n",
       "      <td>36.0</td>\n",
       "      <td>46.0</td>\n",
       "      <td>75.0</td>\n",
       "    </tr>\n",
       "    <tr>\n",
       "      <th>Education</th>\n",
       "      <td>58693.0</td>\n",
       "      <td>1.101579</td>\n",
       "      <td>0.652499</td>\n",
       "      <td>0.0</td>\n",
       "      <td>1.0</td>\n",
       "      <td>1.0</td>\n",
       "      <td>1.0</td>\n",
       "      <td>3.0</td>\n",
       "    </tr>\n",
       "    <tr>\n",
       "      <th>Income</th>\n",
       "      <td>58693.0</td>\n",
       "      <td>121841.644319</td>\n",
       "      <td>40643.740678</td>\n",
       "      <td>38247.0</td>\n",
       "      <td>95541.0</td>\n",
       "      <td>117971.0</td>\n",
       "      <td>138525.0</td>\n",
       "      <td>309364.0</td>\n",
       "    </tr>\n",
       "    <tr>\n",
       "      <th>Occupation</th>\n",
       "      <td>58693.0</td>\n",
       "      <td>0.774198</td>\n",
       "      <td>0.663247</td>\n",
       "      <td>0.0</td>\n",
       "      <td>0.0</td>\n",
       "      <td>1.0</td>\n",
       "      <td>1.0</td>\n",
       "      <td>2.0</td>\n",
       "    </tr>\n",
       "    <tr>\n",
       "      <th>Settlement size</th>\n",
       "      <td>58693.0</td>\n",
       "      <td>0.655904</td>\n",
       "      <td>0.794162</td>\n",
       "      <td>0.0</td>\n",
       "      <td>0.0</td>\n",
       "      <td>0.0</td>\n",
       "      <td>1.0</td>\n",
       "      <td>2.0</td>\n",
       "    </tr>\n",
       "  </tbody>\n",
       "</table>\n",
       "</div>"
      ],
      "text/plain": [
       "                   count           mean           std      min      25%  \\\n",
       "Sex              58693.0       0.385889      0.486809      0.0      0.0   \n",
       "Marital status   58693.0       0.393113      0.488446      0.0      0.0   \n",
       "Age              58693.0      38.793962     12.052447     18.0     30.0   \n",
       "Education        58693.0       1.101579      0.652499      0.0      1.0   \n",
       "Income           58693.0  121841.644319  40643.740678  38247.0  95541.0   \n",
       "Occupation       58693.0       0.774198      0.663247      0.0      0.0   \n",
       "Settlement size  58693.0       0.655904      0.794162      0.0      0.0   \n",
       "\n",
       "                      50%       75%       max  \n",
       "Sex                   0.0       1.0       1.0  \n",
       "Marital status        0.0       1.0       1.0  \n",
       "Age                  36.0      46.0      75.0  \n",
       "Education             1.0       1.0       3.0  \n",
       "Income           117971.0  138525.0  309364.0  \n",
       "Occupation            1.0       1.0       2.0  \n",
       "Settlement size       0.0       1.0       2.0  "
      ]
     },
     "execution_count": 6,
     "metadata": {},
     "output_type": "execute_result"
    }
   ],
   "source": [
    "df.describe().transpose()"
   ]
  },
  {
   "cell_type": "code",
   "execution_count": 7,
   "metadata": {
    "scrolled": true
   },
   "outputs": [],
   "source": [
    "df['Age'] = (df['Age'] - df['Age'].min()) / (df['Age'].max() - df['Age'].min())\n",
    "df['Income'] = (df['Income'] - df['Income'].mean()) / df['Income'].std()"
   ]
  },
  {
   "cell_type": "markdown",
   "metadata": {},
   "source": [
    "# 5. export data"
   ]
  },
  {
   "cell_type": "code",
   "execution_count": 8,
   "metadata": {},
   "outputs": [
    {
     "data": {
      "text/html": [
       "<div>\n",
       "<style scoped>\n",
       "    .dataframe tbody tr th:only-of-type {\n",
       "        vertical-align: middle;\n",
       "    }\n",
       "\n",
       "    .dataframe tbody tr th {\n",
       "        vertical-align: top;\n",
       "    }\n",
       "\n",
       "    .dataframe thead th {\n",
       "        text-align: right;\n",
       "    }\n",
       "</style>\n",
       "<table border=\"1\" class=\"dataframe\">\n",
       "  <thead>\n",
       "    <tr style=\"text-align: right;\">\n",
       "      <th></th>\n",
       "      <th>count</th>\n",
       "      <th>mean</th>\n",
       "      <th>std</th>\n",
       "      <th>min</th>\n",
       "      <th>25%</th>\n",
       "      <th>50%</th>\n",
       "      <th>75%</th>\n",
       "      <th>max</th>\n",
       "    </tr>\n",
       "  </thead>\n",
       "  <tbody>\n",
       "    <tr>\n",
       "      <th>Sex</th>\n",
       "      <td>58693.0</td>\n",
       "      <td>3.858893e-01</td>\n",
       "      <td>0.486809</td>\n",
       "      <td>0.000000</td>\n",
       "      <td>0.000000</td>\n",
       "      <td>0.000000</td>\n",
       "      <td>1.000000</td>\n",
       "      <td>1.000000</td>\n",
       "    </tr>\n",
       "    <tr>\n",
       "      <th>Marital status</th>\n",
       "      <td>58693.0</td>\n",
       "      <td>3.931133e-01</td>\n",
       "      <td>0.488446</td>\n",
       "      <td>0.000000</td>\n",
       "      <td>0.000000</td>\n",
       "      <td>0.000000</td>\n",
       "      <td>1.000000</td>\n",
       "      <td>1.000000</td>\n",
       "    </tr>\n",
       "    <tr>\n",
       "      <th>Age</th>\n",
       "      <td>58693.0</td>\n",
       "      <td>3.648063e-01</td>\n",
       "      <td>0.211446</td>\n",
       "      <td>0.000000</td>\n",
       "      <td>0.210526</td>\n",
       "      <td>0.315789</td>\n",
       "      <td>0.491228</td>\n",
       "      <td>1.000000</td>\n",
       "    </tr>\n",
       "    <tr>\n",
       "      <th>Education</th>\n",
       "      <td>58693.0</td>\n",
       "      <td>1.101579e+00</td>\n",
       "      <td>0.652499</td>\n",
       "      <td>0.000000</td>\n",
       "      <td>1.000000</td>\n",
       "      <td>1.000000</td>\n",
       "      <td>1.000000</td>\n",
       "      <td>3.000000</td>\n",
       "    </tr>\n",
       "    <tr>\n",
       "      <th>Income</th>\n",
       "      <td>58693.0</td>\n",
       "      <td>-1.187246e-15</td>\n",
       "      <td>1.000000</td>\n",
       "      <td>-2.056766</td>\n",
       "      <td>-0.647102</td>\n",
       "      <td>-0.095233</td>\n",
       "      <td>0.410478</td>\n",
       "      <td>4.613807</td>\n",
       "    </tr>\n",
       "    <tr>\n",
       "      <th>Occupation</th>\n",
       "      <td>58693.0</td>\n",
       "      <td>7.741979e-01</td>\n",
       "      <td>0.663247</td>\n",
       "      <td>0.000000</td>\n",
       "      <td>0.000000</td>\n",
       "      <td>1.000000</td>\n",
       "      <td>1.000000</td>\n",
       "      <td>2.000000</td>\n",
       "    </tr>\n",
       "    <tr>\n",
       "      <th>Settlement size</th>\n",
       "      <td>58693.0</td>\n",
       "      <td>6.559045e-01</td>\n",
       "      <td>0.794162</td>\n",
       "      <td>0.000000</td>\n",
       "      <td>0.000000</td>\n",
       "      <td>0.000000</td>\n",
       "      <td>1.000000</td>\n",
       "      <td>2.000000</td>\n",
       "    </tr>\n",
       "  </tbody>\n",
       "</table>\n",
       "</div>"
      ],
      "text/plain": [
       "                   count          mean       std       min       25%  \\\n",
       "Sex              58693.0  3.858893e-01  0.486809  0.000000  0.000000   \n",
       "Marital status   58693.0  3.931133e-01  0.488446  0.000000  0.000000   \n",
       "Age              58693.0  3.648063e-01  0.211446  0.000000  0.210526   \n",
       "Education        58693.0  1.101579e+00  0.652499  0.000000  1.000000   \n",
       "Income           58693.0 -1.187246e-15  1.000000 -2.056766 -0.647102   \n",
       "Occupation       58693.0  7.741979e-01  0.663247  0.000000  0.000000   \n",
       "Settlement size  58693.0  6.559045e-01  0.794162  0.000000  0.000000   \n",
       "\n",
       "                      50%       75%       max  \n",
       "Sex              0.000000  1.000000  1.000000  \n",
       "Marital status   0.000000  1.000000  1.000000  \n",
       "Age              0.315789  0.491228  1.000000  \n",
       "Education        1.000000  1.000000  3.000000  \n",
       "Income          -0.095233  0.410478  4.613807  \n",
       "Occupation       1.000000  1.000000  2.000000  \n",
       "Settlement size  0.000000  1.000000  2.000000  "
      ]
     },
     "execution_count": 8,
     "metadata": {},
     "output_type": "execute_result"
    }
   ],
   "source": [
    "df.describe().transpose()"
   ]
  },
  {
   "cell_type": "code",
   "execution_count": 9,
   "metadata": {},
   "outputs": [
    {
     "data": {
      "text/plain": [
       "(58693, 7)"
      ]
     },
     "execution_count": 9,
     "metadata": {},
     "output_type": "execute_result"
    }
   ],
   "source": [
    "df.to_csv('0 Data/clean_data1.csv')\n",
    "df.shape"
   ]
  }
 ],
 "metadata": {
  "kernelspec": {
   "display_name": "Python 3",
   "language": "python",
   "name": "python3"
  },
  "language_info": {
   "codemirror_mode": {
    "name": "ipython",
    "version": 3
   },
   "file_extension": ".py",
   "mimetype": "text/x-python",
   "name": "python",
   "nbconvert_exporter": "python",
   "pygments_lexer": "ipython3",
   "version": "3.7.6"
  }
 },
 "nbformat": 4,
 "nbformat_minor": 4
}
